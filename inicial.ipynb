{
 "cells": [
  {
   "cell_type": "markdown",
   "metadata": {},
   "source": [
    "# Projeto Python IA: Inteligência Artificial e Previsões\n",
    "\n",
    "### Case: Score de Crédito dos Clientes\n",
    "\n",
    "Você foi contratado por um banco para conseguir definir o score de crédito dos clientes. Você precisa analisar todos os clientes do banco e, com base nessa análise, criar um modelo que consiga ler as informações do cliente e dizer automaticamente o score de crédito dele: Ruim, Ok, Bom\n",
    "\n",
    "Arquivos da aula: https://drive.google.com/drive/folders/1FbDqVq4XLvU85VBlVIMJ73p9oOu6u2-J?usp=drive_link"
   ]
  },
  {
   "cell_type": "code",
   "execution_count": 3,
   "metadata": {},
   "outputs": [],
   "source": [
    "import pandas as pd\n",
    "from sklearn.preprocessing import LabelEncoder as LE\n",
    "# passo 0 - Entender o desafio da empresa - Entender como isso impacta a empresa\n",
    "# passo 1 - importar a base de dados (e corrigir seus problemas)\n",
    "# passo 2 - preparar a base de dados para a inteligencia artificial\n",
    "# passo 3 - criar um modelo de IA -> score de crédito: Ruim, Médio e Bom.\n",
    "# passo 4 - Escolher o melhor modelos\n",
    "# passo 5 - Usar a nossa IA para fazer novas previsões\n",
    "\n",
    "#Passo 1 - Importar a base de dados e corrigir seus problemas\n",
    "tabela = pd.read_csv(\"clientes.csv\")\n",
    "codificador = LE()\n",
    "\n",
    "#Passo 2 - Preparar a base de dados para a IA\n",
    "from sklearn.model_selection import train_test_split\n",
    "\n",
    "tabela[\"profissao\"] = codificador.fit_transform(tabela[\"profissao\"])\n",
    "tabela[\"mix_credito\"] = codificador.fit_transform(tabela[\"mix_credito\"])\n",
    "tabela[\"comportamento_pagamento\"] = codificador.fit_transform(tabela[\"comportamento_pagamento\"])\n",
    "\n",
    "x = tabela.drop(columns=[\"id_cliente\", \"score_credito\"])\n",
    "y = tabela[\"score_credito\"]\n",
    "\n",
    "x_treino, x_teste, y_treino, y_teste = train_test_split(x, y)"
   ]
  },
  {
   "cell_type": "code",
   "execution_count": 6,
   "metadata": {},
   "outputs": [
    {
     "data": {
      "text/plain": [
       "0.8282"
      ]
     },
     "metadata": {},
     "output_type": "display_data"
    },
    {
     "data": {
      "text/plain": [
       "0.74424"
      ]
     },
     "metadata": {},
     "output_type": "display_data"
    }
   ],
   "source": [
    "# Passo 3 e 4- Criar um modelo de IA e escolher o modelo\n",
    "from sklearn.ensemble import RandomForestClassifier\n",
    "from sklearn.metrics import accuracy_score\n",
    "#from sklearn.neighbors import KNeighborsClassifier\n",
    "\n",
    "modelo_arvore_decisao = RandomForestClassifier()\n",
    "#modelo_knn = KNeighborsClassifier()\n",
    "\n",
    "# treinar os modelos\n",
    "modelo_arvore_decisao.fit(x_treino, y_treino)\n",
    "#modelo_knn.fit(x_treino, y_treino)\n",
    "\n",
    "#testar os modelos\n",
    "previsao_arvore = modelo_arvore_decisao.predict(x_teste)\n",
    "#previsao_knn = modelo_knn.predict(x_teste)\n",
    "\n",
    "display(accuracy_score(y_teste, previsao_arvore))\n",
    "#display(accuracy_score(y_teste, previsao_knn))"
   ]
  },
  {
   "cell_type": "code",
   "execution_count": 9,
   "metadata": {},
   "outputs": [
    {
     "data": {
      "text/plain": [
       "array(['Poor', 'Good', 'Good'], dtype=object)"
      ]
     },
     "metadata": {},
     "output_type": "display_data"
    }
   ],
   "source": [
    "#5 - Realizar as previsoes\n",
    "novos_clientes = pd.read_csv(\"novos_clientes.csv\")\n",
    "novos_clientes[\"profissao\"] = codificador.fit_transform(novos_clientes[\"profissao\"])\n",
    "novos_clientes[\"mix_credito\"] = codificador.fit_transform(novos_clientes[\"mix_credito\"])\n",
    "novos_clientes[\"comportamento_pagamento\"] = codificador.fit_transform(novos_clientes[\"comportamento_pagamento\"])\n",
    "\n",
    "previsao = modelo_arvore_decisao.predict(novos_clientes)\n",
    "display(previsao)"
   ]
  }
 ],
 "metadata": {
  "kernelspec": {
   "display_name": "Python 3",
   "language": "python",
   "name": "python3"
  },
  "language_info": {
   "codemirror_mode": {
    "name": "ipython",
    "version": 3
   },
   "file_extension": ".py",
   "mimetype": "text/x-python",
   "name": "python",
   "nbconvert_exporter": "python",
   "pygments_lexer": "ipython3",
   "version": "3.12.1"
  },
  "orig_nbformat": 4
 },
 "nbformat": 4,
 "nbformat_minor": 2
}
